{
 "cells": [
  {
   "cell_type": "code",
   "execution_count": 1,
   "metadata": {},
   "outputs": [],
   "source": [
    "import matplotlib.pyplot as plt\n",
    "%matplotlib inline\n",
    "import cv2"
   ]
  },
  {
   "cell_type": "code",
   "execution_count": 2,
   "metadata": {},
   "outputs": [],
   "source": [
    "car_cascade=cv2.CascadeClassifier('cascades/haarcascade_car.xml')\n",
    "body_cascade=cv2.CascadeClassifier('cascades/haarcascade_fullbody.xml')"
   ]
  },
  {
   "cell_type": "code",
   "execution_count": 3,
   "metadata": {},
   "outputs": [],
   "source": [
    "capture=cv2.VideoCapture('files/cars.avi')\n",
    "while capture.isOpened():\n",
    "    response, frame = capture.read()\n",
    "    if response:\n",
    "        gray=cv2.cvtColor(frame,cv2.COLOR_BGR2GRAY)\n",
    "        cars=car_cascade.detectMultiScale(gray,1.2,1)\n",
    "        for (x, y, w, h) in cars:\n",
    "            cv2.rectangle(frame, (x,y), (x+w, y+h), (0,0,0), 3)\n",
    "        cv2.imshow('Cars', frame)\n",
    "        if cv2.waitKey(1) & 0xFF == ord('q'):\n",
    "            break\n",
    "    else:\n",
    "        break\n",
    "capture.release()\n",
    "cv2.destroyAllWindows()            "
   ]
  },
  {
   "cell_type": "code",
   "execution_count": 10,
   "metadata": {},
   "outputs": [],
   "source": [
    "capture=cv2.VideoCapture('files/walking.avi')\n",
    "while capture.isOpened():\n",
    "    response, frame = capture.read()\n",
    "    if response:\n",
    "        gray=cv2.cvtColor(frame,cv2.COLOR_BGR2GRAY)\n",
    "        cars=body_cascade.detectMultiScale(gray,1.2,3)\n",
    "        for (x, y, w, h) in cars:\n",
    "            cv2.rectangle(frame, (x,y), (x+w, y+h), (0,0,0), 3)\n",
    "        cv2.imshow('Cars', frame)\n",
    "        if cv2.waitKey(1) & 0xFF == ord('q'):\n",
    "            break\n",
    "    else:\n",
    "        break\n",
    "capture.release()\n",
    "cv2.destroyAllWindows()            "
   ]
  },
  {
   "cell_type": "code",
   "execution_count": null,
   "metadata": {},
   "outputs": [],
   "source": []
  }
 ],
 "metadata": {
  "kernelspec": {
   "display_name": "Python 3",
   "language": "python",
   "name": "python3"
  },
  "language_info": {
   "codemirror_mode": {
    "name": "ipython",
    "version": 3
   },
   "file_extension": ".py",
   "mimetype": "text/x-python",
   "name": "python",
   "nbconvert_exporter": "python",
   "pygments_lexer": "ipython3",
   "version": "3.7.6"
  }
 },
 "nbformat": 4,
 "nbformat_minor": 4
}
